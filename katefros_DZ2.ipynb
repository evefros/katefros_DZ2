{
 "cells": [
  {
   "cell_type": "code",
   "execution_count": 13,
   "metadata": {},
   "outputs": [
    {
     "name": "stdout",
     "output_type": "stream",
     "text": [
      "t\n"
     ]
    }
   ],
   "source": [
    "word = 'testing'\n",
    "L = int(len(word))\n",
    "if L % 2 == 0:\n",
    "    L1 = int(L / 2-1)\n",
    "    L2 = int(L1 + 1)\n",
    "    print(word[L1:(L2+1)])\n",
    "else:\n",
    "    L1 = int(L / 2)\n",
    "    print(word[L1])"
   ]
  },
  {
   "cell_type": "code",
   "execution_count": 16,
   "metadata": {},
   "outputs": [
    {
     "name": "stdout",
     "output_type": "stream",
     "text": [
      "Введите число: 1\n",
      "Введите число: 1\n",
      "Введите число: 1\n",
      "Введите число: 0\n",
      "3\n"
     ]
    }
   ],
   "source": [
    "sum_num = 0\n",
    "while True:\n",
    "    num = int(input('Введите число: '))\n",
    "    if num == 0:\n",
    "        break\n",
    "    else:\n",
    "        sum_num += num\n",
    "print(sum_num)        "
   ]
  },
  {
   "cell_type": "code",
   "execution_count": 12,
   "metadata": {},
   "outputs": [
    {
     "name": "stdout",
     "output_type": "stream",
     "text": [
      "Идеальные пары:\n",
      "Alex и Emma\n",
      "Arthur и Kate\n",
      "John и Kira\n",
      "Peter и Liza\n",
      "Richard и Trisha\n"
     ]
    }
   ],
   "source": [
    "# Мы делаем MVP dating-сервиса, и у нас есть список парней и девушек.\n",
    "# Выдвигаем гипотезу: лучшие рекомендации мы получим, если просто \n",
    "# отсортируем имена по алфавиту и познакомим людей с одинаковыми индексами после сортировки! \n",
    "# Но мы не будем никого знакомить, если кто-то может остаться без пары.\n",
    "\n",
    "boys = [\"Peter\", \"Alex\", \"John\", \"Arthur\", \"Richard\"]\n",
    "girls = [\"Kate\", \"Liza\", \"Kira\", \"Emma\", \"Trisha\"]\n",
    "boys.sort()\n",
    "girls.sort()\n",
    "\n",
    "n = len(boys)\n",
    "m = len(girls)\n",
    "if n != m:\n",
    "    print('Внимание, кто-то может остаться без пары!')\n",
    "\n",
    "else:\n",
    "    print('Идеальные пары:')\n",
    "    for i in range(0,n):\n",
    "        print(boys[i],'и',girls[i])"
   ]
  },
  {
   "cell_type": "code",
   "execution_count": 2,
   "metadata": {},
   "outputs": [
    {
     "name": "stdout",
     "output_type": "stream",
     "text": [
      "Thailand - 23.9 C\n",
      "Germany - 13.8 C\n",
      "Russia - 3.7 C\n",
      "Poland - 12.0 C\n"
     ]
    }
   ],
   "source": [
    "#У нас есть список, содержащий информацию о среднедневной температуре в Фаренгейтах \n",
    "#за произвольный период по странам (структура данных в примере). \n",
    "#Необходимо написать код, который рассчитает среднюю температуру за период в Цельсиях(!) \n",
    "#для каждой страны.\n",
    "\n",
    "import numpy\n",
    " \n",
    "countries_temperature = [\n",
    "['Thailand', [75.2, 77, 78.8, 73.4, 68, 75.2, 77]],\n",
    "['Germany', [57.2, 55.4, 59, 59, 53.6]],\n",
    "['Russia', [35.6, 37.4, 39.2, 41, 42.8, 39.2, 35.6]],\n",
    "['Poland', [50, 50, 53.6, 57.2, 55.4, 55.4]]\n",
    "]\n",
    "\n",
    "n = len(countries_temperature)\n",
    "\n",
    "for i in range(0,n):\n",
    "    sr = numpy.mean(countries_temperature[i][1])\n",
    "    celsius = round(5 / 9 *(sr-32),1)\n",
    "    print(countries_temperature[i][0],'-',celsius,'C')"
   ]
  },
  {
   "cell_type": "code",
   "execution_count": 6,
   "metadata": {
    "scrolled": true
   },
   "outputs": [
    {
     "name": "stdout",
     "output_type": "stream",
     "text": [
      "Среднее значение просмотров на пользователя:  145.33\n"
     ]
    }
   ],
   "source": [
    "# Дан поток логов по количеству просмотренных страниц для каждого пользователя. \n",
    "# Вам необходимо написать алгоритм, который считает среднее значение просмотров на пользователя. \n",
    "# Т. е. надо посчитать отношение суммы всех просмотров к количеству уникальных пользователей.\n",
    "\n",
    "\n",
    "stream = [\n",
    "'2018-01-01,user100,150',\n",
    "'2018-01-07,user99,205',\n",
    "'2018-03-29,user1001,81'\n",
    "]\n",
    "\n",
    "views_count = 0\n",
    "users = []\n",
    "for each in stream:\n",
    "    r = each.split(',')\n",
    "    views_count = views_count + int(r[2])\n",
    "    if r[1] not in users:\n",
    "        users.append(r[1])\n",
    "        \n",
    "print('Среднее значение просмотров на пользователя: ',round(views_count/len(users),2))"
   ]
  },
  {
   "cell_type": "code",
   "execution_count": 158,
   "metadata": {},
   "outputs": [
    {
     "name": "stdout",
     "output_type": "stream",
     "text": [
      "Введите числа через пробел: 1 2 3 1 5 6 1\n",
      "1 "
     ]
    }
   ],
   "source": [
    "# Необходимо у пользователя запрашивать набор чисел разделенных пробелом. \n",
    "# В результате должны выводиться числа, которые повторяются в вводе более одного раза.\n",
    "\n",
    "numbers = input('Введите числа через пробел: ').split()\n",
    "numbers.sort()    \n",
    "\n",
    "t = []\n",
    "L = len(numbers)\n",
    "c = -1\n",
    "\n",
    "for i in range(0,L-1):\n",
    "    if numbers[i] == numbers[i+1] and numbers[i] != c:\n",
    "        i = i + 1\n",
    "        c = numbers[i]\n",
    "        t.append(numbers[i])\n",
    "\n",
    "for g in range(0,len(t)):\n",
    "    print(t[g],end = ' ')\n",
    "        \n"
   ]
  }
 ],
 "metadata": {
  "kernelspec": {
   "display_name": "Python 3",
   "language": "python",
   "name": "python3"
  },
  "language_info": {
   "codemirror_mode": {
    "name": "ipython",
    "version": 3
   },
   "file_extension": ".py",
   "mimetype": "text/x-python",
   "name": "python",
   "nbconvert_exporter": "python",
   "pygments_lexer": "ipython3",
   "version": "3.8.5"
  }
 },
 "nbformat": 4,
 "nbformat_minor": 4
}
